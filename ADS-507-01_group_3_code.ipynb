{
 "cells": [
  {
   "attachments": {},
   "cell_type": "markdown",
   "metadata": {},
   "source": [
    "#ADS-507-01 Group 3 Final Project\n",
    "#Wild and Wonderful Sales: A Way to Hike Up your Profit\n",
    "#Ben Earnest, Vannesa Salazar, Renetta Nelson"
   ]
  },
  {
   "cell_type": "code",
   "execution_count": 1,
   "metadata": {},
   "outputs": [
    {
     "name": "stdout",
     "output_type": "stream",
     "text": [
      "Requirement already satisfied: mysql-connector-python in c:\\users\\earne\\anaconda3\\lib\\site-packages (8.0.27)\n",
      "Requirement already satisfied: protobuf>=3.0.0 in c:\\users\\earne\\anaconda3\\lib\\site-packages (from mysql-connector-python) (3.19.1)\n"
     ]
    }
   ],
   "source": [
    "!pip install mysql-connector-python"
   ]
  },
  {
   "cell_type": "code",
   "execution_count": 2,
   "metadata": {},
   "outputs": [],
   "source": [
    "#import libraries\n",
    "import numpy as np\n",
    "import pandas as pd\n",
    "import pymysql as mysql\n",
    "from sqlalchemy import create_engine\n",
    "import matplotlib.pyplot as plt\n",
    "import requests\n"
   ]
  },
  {
   "cell_type": "code",
   "execution_count": 5,
   "metadata": {},
   "outputs": [],
   "source": [
    "#pull the datasets from github\n",
    "\n",
    "go_1k = pd.DataFrame(pd.read_csv(\"https://github.com/RenettaNelson/ADS-507---SQL-Data-Pipeline/raw/main/GOSales_data/go_1k.csv\"))\n",
    "go_daily_sales = pd.DataFrame(pd.read_csv(\"https://github.com/RenettaNelson/ADS-507---SQL-Data-Pipeline/raw/main/GOSales_data/go_daily_sales.csv\"))\n",
    "go_methods = pd.DataFrame(pd.read_csv(\"https://github.com/RenettaNelson/ADS-507---SQL-Data-Pipeline/raw/main/GOSales_data/go_methods.csv\"))\n",
    "go_products = pd.DataFrame(pd.read_csv(\"https://github.com/RenettaNelson/ADS-507---SQL-Data-Pipeline/raw/main/GOSales_data/go_products.csv\"))\n",
    "go_retailers = pd.DataFrame(pd.read_csv(\"https://github.com/RenettaNelson/ADS-507---SQL-Data-Pipeline/raw/main/GOSales_data/go_retailers.csv\"))\n"
   ]
  },
  {
   "attachments": {},
   "cell_type": "markdown",
   "metadata": {},
   "source": [
    "You will need to add your own local server password (need to figure out a cleaner solution)"
   ]
  },
  {
   "cell_type": "code",
   "execution_count": 4,
   "metadata": {},
   "outputs": [
    {
     "data": {
      "text/plain": [
       "1"
      ]
     },
     "execution_count": 4,
     "metadata": {},
     "output_type": "execute_result"
    }
   ],
   "source": [
    "# Connect to the sql server\n",
    "connection = mysql.connect(host='localhost',\n",
    "                         user='root',\n",
    "                         password='XXXXXXXXXXX')\n",
    "                          \n",
    "\n",
    "# create cursor\n",
    "cursor = connection.cursor()\n",
    "\n",
    "#Create Database\n",
    "cursor.execute(\"CREATE DATABASE gosales\")"
   ]
  },
  {
   "attachments": {},
   "cell_type": "markdown",
   "metadata": {},
   "source": [
    "You will need to add your own local server password (need to figure out a cleaner solution)"
   ]
  },
  {
   "cell_type": "code",
   "execution_count": 6,
   "metadata": {},
   "outputs": [],
   "source": [
    "#create engine to add data to sql database \"gosales\"\n",
    "db_data = 'mysql+mysqlconnector://' + 'root' + ':' + 'XXXXXXXXXX' + '@' + 'localhost' + ':3306/' \\\n",
    "       + 'gosales' + '?charset=utf8mb4'\n",
    "engine = create_engine(db_data)"
   ]
  },
  {
   "cell_type": "code",
   "execution_count": 7,
   "metadata": {},
   "outputs": [],
   "source": [
    "# Execute the to_sql for writting DF into SQL and add to database\n",
    "go_1k.to_sql('go_1k', engine, if_exists='append', index=False) \n",
    "go_daily_sales.to_sql('go_daily_sales', engine, if_exists='append', index=False) \n",
    "go_methods.to_sql('go_methods', engine, if_exists='append', index=False) \n",
    "go_products.to_sql('go_products', engine, if_exists='append', index=False) \n",
    "go_retailers.to_sql('go_retailers', engine, if_exists='append', index=False) "
   ]
  },
  {
   "attachments": {},
   "cell_type": "markdown",
   "metadata": {},
   "source": [
    "You will need to add your own local server password (need to figure out a cleaner solution)"
   ]
  },
  {
   "cell_type": "code",
   "execution_count": 11,
   "metadata": {},
   "outputs": [],
   "source": [
    "#update connection to use go sales database\n",
    "connection = mysql.connect(host='localhost',\n",
    "                         user='root',\n",
    "                         password='XXXXXXXXXXXX',\n",
    "                         database='gosales')"
   ]
  },
  {
   "attachments": {},
   "cell_type": "markdown",
   "metadata": {},
   "source": [
    "We can start queries here to start working the transform part (build the tables we want to use from the database)"
   ]
  },
  {
   "cell_type": "code",
   "execution_count": 12,
   "metadata": {},
   "outputs": [
    {
     "data": {
      "text/html": [
       "<div>\n",
       "<style scoped>\n",
       "    .dataframe tbody tr th:only-of-type {\n",
       "        vertical-align: middle;\n",
       "    }\n",
       "\n",
       "    .dataframe tbody tr th {\n",
       "        vertical-align: top;\n",
       "    }\n",
       "\n",
       "    .dataframe thead th {\n",
       "        text-align: right;\n",
       "    }\n",
       "</style>\n",
       "<table border=\"1\" class=\"dataframe\">\n",
       "  <thead>\n",
       "    <tr style=\"text-align: right;\">\n",
       "      <th></th>\n",
       "      <th>Retailer code</th>\n",
       "      <th>Product number</th>\n",
       "      <th>Order method code</th>\n",
       "      <th>Date</th>\n",
       "      <th>Quantity</th>\n",
       "      <th>Unit price</th>\n",
       "      <th>Unit sale price</th>\n",
       "    </tr>\n",
       "  </thead>\n",
       "  <tbody>\n",
       "    <tr>\n",
       "      <th>0</th>\n",
       "      <td>1201</td>\n",
       "      <td>109110</td>\n",
       "      <td>4</td>\n",
       "      <td>2015-01-12</td>\n",
       "      <td>648</td>\n",
       "      <td>76.86</td>\n",
       "      <td>71.48</td>\n",
       "    </tr>\n",
       "    <tr>\n",
       "      <th>1</th>\n",
       "      <td>1201</td>\n",
       "      <td>112110</td>\n",
       "      <td>4</td>\n",
       "      <td>2015-01-12</td>\n",
       "      <td>799</td>\n",
       "      <td>10.64</td>\n",
       "      <td>10.21</td>\n",
       "    </tr>\n",
       "    <tr>\n",
       "      <th>2</th>\n",
       "      <td>1201</td>\n",
       "      <td>115110</td>\n",
       "      <td>4</td>\n",
       "      <td>2015-01-12</td>\n",
       "      <td>755</td>\n",
       "      <td>10.71</td>\n",
       "      <td>10.28</td>\n",
       "    </tr>\n",
       "    <tr>\n",
       "      <th>3</th>\n",
       "      <td>1205</td>\n",
       "      <td>70240</td>\n",
       "      <td>3</td>\n",
       "      <td>2015-01-12</td>\n",
       "      <td>70</td>\n",
       "      <td>122.70</td>\n",
       "      <td>114.11</td>\n",
       "    </tr>\n",
       "    <tr>\n",
       "      <th>4</th>\n",
       "      <td>1205</td>\n",
       "      <td>71110</td>\n",
       "      <td>3</td>\n",
       "      <td>2015-01-12</td>\n",
       "      <td>28</td>\n",
       "      <td>95.62</td>\n",
       "      <td>92.75</td>\n",
       "    </tr>\n",
       "    <tr>\n",
       "      <th>5</th>\n",
       "      <td>1215</td>\n",
       "      <td>73110</td>\n",
       "      <td>2</td>\n",
       "      <td>2015-01-12</td>\n",
       "      <td>3992</td>\n",
       "      <td>12.78</td>\n",
       "      <td>11.89</td>\n",
       "    </tr>\n",
       "    <tr>\n",
       "      <th>6</th>\n",
       "      <td>1215</td>\n",
       "      <td>83110</td>\n",
       "      <td>2</td>\n",
       "      <td>2015-01-12</td>\n",
       "      <td>156</td>\n",
       "      <td>96.44</td>\n",
       "      <td>89.69</td>\n",
       "    </tr>\n",
       "    <tr>\n",
       "      <th>7</th>\n",
       "      <td>1215</td>\n",
       "      <td>86110</td>\n",
       "      <td>2</td>\n",
       "      <td>2015-01-12</td>\n",
       "      <td>2615</td>\n",
       "      <td>6.00</td>\n",
       "      <td>5.58</td>\n",
       "    </tr>\n",
       "    <tr>\n",
       "      <th>8</th>\n",
       "      <td>1215</td>\n",
       "      <td>93110</td>\n",
       "      <td>2</td>\n",
       "      <td>2015-01-12</td>\n",
       "      <td>1913</td>\n",
       "      <td>5.00</td>\n",
       "      <td>4.65</td>\n",
       "    </tr>\n",
       "    <tr>\n",
       "      <th>9</th>\n",
       "      <td>1215</td>\n",
       "      <td>96110</td>\n",
       "      <td>2</td>\n",
       "      <td>2015-01-12</td>\n",
       "      <td>493</td>\n",
       "      <td>23.00</td>\n",
       "      <td>22.08</td>\n",
       "    </tr>\n",
       "  </tbody>\n",
       "</table>\n",
       "</div>"
      ],
      "text/plain": [
       "   Retailer code  Product number  Order method code        Date  Quantity  \\\n",
       "0           1201          109110                  4  2015-01-12       648   \n",
       "1           1201          112110                  4  2015-01-12       799   \n",
       "2           1201          115110                  4  2015-01-12       755   \n",
       "3           1205           70240                  3  2015-01-12        70   \n",
       "4           1205           71110                  3  2015-01-12        28   \n",
       "5           1215           73110                  2  2015-01-12      3992   \n",
       "6           1215           83110                  2  2015-01-12       156   \n",
       "7           1215           86110                  2  2015-01-12      2615   \n",
       "8           1215           93110                  2  2015-01-12      1913   \n",
       "9           1215           96110                  2  2015-01-12       493   \n",
       "\n",
       "   Unit price  Unit sale price  \n",
       "0       76.86            71.48  \n",
       "1       10.64            10.21  \n",
       "2       10.71            10.28  \n",
       "3      122.70           114.11  \n",
       "4       95.62            92.75  \n",
       "5       12.78            11.89  \n",
       "6       96.44            89.69  \n",
       "7        6.00             5.58  \n",
       "8        5.00             4.65  \n",
       "9       23.00            22.08  "
      ]
     },
     "execution_count": 12,
     "metadata": {},
     "output_type": "execute_result"
    }
   ],
   "source": [
    "# Execute query\n",
    "sql = pd.read_sql(\"SELECT * FROM go_daily_sales LIMIT 10\", connection)\n",
    "sql"
   ]
  },
  {
   "cell_type": "markdown",
   "metadata": {},
   "source": []
  }
 ],
 "metadata": {
  "kernelspec": {
   "display_name": "base",
   "language": "python",
   "name": "python3"
  },
  "language_info": {
   "codemirror_mode": {
    "name": "ipython",
    "version": 3
   },
   "file_extension": ".py",
   "mimetype": "text/x-python",
   "name": "python",
   "nbconvert_exporter": "python",
   "pygments_lexer": "ipython3",
   "version": "3.8.8"
  },
  "orig_nbformat": 4,
  "vscode": {
   "interpreter": {
    "hash": "e8f03a6354343ad11327747b8d2153741a6c8e607fdba3293a6355f02705632d"
   }
  }
 },
 "nbformat": 4,
 "nbformat_minor": 2
}
