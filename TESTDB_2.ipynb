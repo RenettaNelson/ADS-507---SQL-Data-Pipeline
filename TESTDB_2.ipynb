{
 "cells": [
  {
   "cell_type": "code",
   "execution_count": 76,
   "id": "6d008163",
   "metadata": {},
   "outputs": [],
   "source": [
    "import pandas as pd\n",
    "from pandas.io import sql\n",
    "from sqlalchemy import create_engine\n",
    "from sqlalchemy.pool import Pool\n",
    "from datetime import datetime\n",
    "import mysql.connector\n",
    "import json\n",
    "import csv\n",
    "import os\n",
    "\n",
    "import numpy as np\n",
    "import pymysql as mysql\n",
    "import matplotlib.pyplot as plt\n",
    "import requests\n",
    "import getpass\n",
    "\n",
    "#!pip install mysql-connector-python"
   ]
  },
  {
   "cell_type": "code",
   "execution_count": null,
   "id": "2bb586ab",
   "metadata": {},
   "outputs": [],
   "source": [
    "###############################################\n",
    "# Cleaning the Data\n",
    "###############################################"
   ]
  },
  {
   "cell_type": "markdown",
   "id": "a6ddfbeb",
   "metadata": {},
   "source": [
    "# Extract the Data "
   ]
  },
  {
   "cell_type": "code",
   "execution_count": 77,
   "id": "0e43c795",
   "metadata": {},
   "outputs": [],
   "source": [
    "#extract the data \n",
    "\n",
    "\n",
    "go_1k = pd.DataFrame(pd.read_csv(\"https://github.com/RenettaNelson/ADS-507---SQL-Data-Pipeline/raw/main/GOSales_data/go_1k.csv\"))\n",
    "go_daily_sales = pd.DataFrame(pd.read_csv(\"https://github.com/RenettaNelson/ADS-507---SQL-Data-Pipeline/raw/main/GOSales_data/go_daily_sales.csv\"))\n",
    "go_methods = pd.DataFrame(pd.read_csv(\"https://github.com/RenettaNelson/ADS-507---SQL-Data-Pipeline/raw/main/GOSales_data/go_methods.csv\"))\n",
    "go_products = pd.DataFrame(pd.read_csv(\"https://github.com/RenettaNelson/ADS-507---SQL-Data-Pipeline/raw/main/GOSales_data/go_products.csv\"))\n",
    "go_retailers = pd.DataFrame(pd.read_csv(\"https://github.com/RenettaNelson/ADS-507---SQL-Data-Pipeline/raw/main/GOSales_data/go_retailers.csv\"))\n",
    "cpi_monthly = pd.DataFrame(pd.read_csv(\"https://github.com/RenettaNelson/ADS-507---SQL-Data-Pipeline/raw/main/GOSales_data/1_month_percent_change_in_CPI.csv\"))\n",
    "unemploy_monthly = pd.DataFrame(pd.read_csv(\"https://github.com/RenettaNelson/ADS-507---SQL-Data-Pipeline/raw/main/GOSales_data/Monthly_unemployment_rate.csv\"))\n",
    "cci_monthly = pd.DataFrame(pd.read_csv(\"https://raw.githubusercontent.com/RenettaNelson/ADS-507---SQL-Data-Pipeline/main/GOSales_data/CCI%20CSV.csv\"))\n",
    "gdp_monthly = pd.DataFrame(pd.read_csv(\"https://raw.githubusercontent.com/RenettaNelson/ADS-507---SQL-Data-Pipeline/main/GOSales_data/US_Monthly_GDP.csv\"))\n"
   ]
  },
  {
   "cell_type": "code",
   "execution_count": null,
   "id": "54c16655",
   "metadata": {
    "scrolled": false
   },
   "outputs": [],
   "source": [
    "go_1k.head()"
   ]
  },
  {
   "cell_type": "code",
   "execution_count": null,
   "id": "d15f1aaf",
   "metadata": {
    "scrolled": true
   },
   "outputs": [],
   "source": [
    "go_daily_sales.head()"
   ]
  },
  {
   "cell_type": "code",
   "execution_count": null,
   "id": "8eb2b9ec",
   "metadata": {},
   "outputs": [],
   "source": [
    "cci_monthly.head()"
   ]
  },
  {
   "cell_type": "code",
   "execution_count": null,
   "id": "902ed65c",
   "metadata": {},
   "outputs": [],
   "source": [
    "go_products.head()"
   ]
  },
  {
   "cell_type": "code",
   "execution_count": null,
   "id": "29a88620",
   "metadata": {},
   "outputs": [],
   "source": [
    "go_retailers.head()"
   ]
  },
  {
   "cell_type": "code",
   "execution_count": null,
   "id": "ba869081",
   "metadata": {},
   "outputs": [],
   "source": [
    "cpi_monthly.head()"
   ]
  },
  {
   "cell_type": "code",
   "execution_count": null,
   "id": "14f249d4",
   "metadata": {},
   "outputs": [],
   "source": [
    "unemploy_monthly.head()"
   ]
  },
  {
   "cell_type": "code",
   "execution_count": 78,
   "id": "3f966b26",
   "metadata": {},
   "outputs": [
    {
     "data": {
      "text/html": [
       "<div>\n",
       "<style scoped>\n",
       "    .dataframe tbody tr th:only-of-type {\n",
       "        vertical-align: middle;\n",
       "    }\n",
       "\n",
       "    .dataframe tbody tr th {\n",
       "        vertical-align: top;\n",
       "    }\n",
       "\n",
       "    .dataframe thead th {\n",
       "        text-align: right;\n",
       "    }\n",
       "</style>\n",
       "<table border=\"1\" class=\"dataframe\">\n",
       "  <thead>\n",
       "    <tr style=\"text-align: right;\">\n",
       "      <th></th>\n",
       "      <th>Unnamed: 0</th>\n",
       "      <th>Monthly Nominal GDP Index</th>\n",
       "      <th>Monthly Real GDP Index</th>\n",
       "    </tr>\n",
       "  </thead>\n",
       "  <tbody>\n",
       "    <tr>\n",
       "      <th>0</th>\n",
       "      <td>1992 - Jan</td>\n",
       "      <td>6315.583</td>\n",
       "      <td>9485.863</td>\n",
       "    </tr>\n",
       "    <tr>\n",
       "      <th>1</th>\n",
       "      <td>1992 - Feb</td>\n",
       "      <td>6356.697</td>\n",
       "      <td>9527.954</td>\n",
       "    </tr>\n",
       "    <tr>\n",
       "      <th>2</th>\n",
       "      <td>1992 - Mar</td>\n",
       "      <td>6417.025</td>\n",
       "      <td>9606.158</td>\n",
       "    </tr>\n",
       "    <tr>\n",
       "      <th>3</th>\n",
       "      <td>1992 - Apr</td>\n",
       "      <td>6443.138</td>\n",
       "      <td>9612.297</td>\n",
       "    </tr>\n",
       "    <tr>\n",
       "      <th>4</th>\n",
       "      <td>1992 - May</td>\n",
       "      <td>6433.851</td>\n",
       "      <td>9594.432</td>\n",
       "    </tr>\n",
       "  </tbody>\n",
       "</table>\n",
       "</div>"
      ],
      "text/plain": [
       "   Unnamed: 0  Monthly Nominal GDP Index  Monthly Real GDP Index\n",
       "0  1992 - Jan                   6315.583                9485.863\n",
       "1  1992 - Feb                   6356.697                9527.954\n",
       "2  1992 - Mar                   6417.025                9606.158\n",
       "3  1992 - Apr                   6443.138                9612.297\n",
       "4  1992 - May                   6433.851                9594.432"
      ]
     },
     "execution_count": 78,
     "metadata": {},
     "output_type": "execute_result"
    }
   ],
   "source": [
    "\n",
    "gdp_monthly.head()\n"
   ]
  },
  {
   "attachments": {},
   "cell_type": "markdown",
   "id": "e50edb3f",
   "metadata": {},
   "source": [
    "# Data Transformation"
   ]
  },
  {
   "cell_type": "code",
   "execution_count": 79,
   "id": "fc79adf5",
   "metadata": {},
   "outputs": [
    {
     "data": {
      "text/html": [
       "<div>\n",
       "<style scoped>\n",
       "    .dataframe tbody tr th:only-of-type {\n",
       "        vertical-align: middle;\n",
       "    }\n",
       "\n",
       "    .dataframe tbody tr th {\n",
       "        vertical-align: top;\n",
       "    }\n",
       "\n",
       "    .dataframe thead th {\n",
       "        text-align: right;\n",
       "    }\n",
       "</style>\n",
       "<table border=\"1\" class=\"dataframe\">\n",
       "  <thead>\n",
       "    <tr style=\"text-align: right;\">\n",
       "      <th></th>\n",
       "      <th>Date</th>\n",
       "      <th>Monthly Real GDP Index</th>\n",
       "    </tr>\n",
       "  </thead>\n",
       "  <tbody>\n",
       "    <tr>\n",
       "      <th>276</th>\n",
       "      <td>2015-01</td>\n",
       "      <td>17274.838</td>\n",
       "    </tr>\n",
       "    <tr>\n",
       "      <th>277</th>\n",
       "      <td>2015-02</td>\n",
       "      <td>17353.545</td>\n",
       "    </tr>\n",
       "    <tr>\n",
       "      <th>278</th>\n",
       "      <td>2015-03</td>\n",
       "      <td>17213.689</td>\n",
       "    </tr>\n",
       "    <tr>\n",
       "      <th>279</th>\n",
       "      <td>2015-04</td>\n",
       "      <td>17389.551</td>\n",
       "    </tr>\n",
       "    <tr>\n",
       "      <th>280</th>\n",
       "      <td>2015-05</td>\n",
       "      <td>17349.749</td>\n",
       "    </tr>\n",
       "    <tr>\n",
       "      <th>281</th>\n",
       "      <td>2015-06</td>\n",
       "      <td>17403.536</td>\n",
       "    </tr>\n",
       "    <tr>\n",
       "      <th>282</th>\n",
       "      <td>2015-07</td>\n",
       "      <td>17403.909</td>\n",
       "    </tr>\n",
       "    <tr>\n",
       "      <th>283</th>\n",
       "      <td>2015-08</td>\n",
       "      <td>17407.732</td>\n",
       "    </tr>\n",
       "    <tr>\n",
       "      <th>284</th>\n",
       "      <td>2015-09</td>\n",
       "      <td>17499.930</td>\n",
       "    </tr>\n",
       "    <tr>\n",
       "      <th>285</th>\n",
       "      <td>2015-10</td>\n",
       "      <td>17488.269</td>\n",
       "    </tr>\n",
       "    <tr>\n",
       "      <th>286</th>\n",
       "      <td>2015-11</td>\n",
       "      <td>17422.648</td>\n",
       "    </tr>\n",
       "    <tr>\n",
       "      <th>287</th>\n",
       "      <td>2015-12</td>\n",
       "      <td>17477.131</td>\n",
       "    </tr>\n",
       "    <tr>\n",
       "      <th>288</th>\n",
       "      <td>2016-01</td>\n",
       "      <td>17548.082</td>\n",
       "    </tr>\n",
       "    <tr>\n",
       "      <th>289</th>\n",
       "      <td>2016-02</td>\n",
       "      <td>17517.788</td>\n",
       "    </tr>\n",
       "    <tr>\n",
       "      <th>290</th>\n",
       "      <td>2016-03</td>\n",
       "      <td>17630.853</td>\n",
       "    </tr>\n",
       "    <tr>\n",
       "      <th>291</th>\n",
       "      <td>2016-04</td>\n",
       "      <td>17643.776</td>\n",
       "    </tr>\n",
       "    <tr>\n",
       "      <th>292</th>\n",
       "      <td>2016-05</td>\n",
       "      <td>17588.915</td>\n",
       "    </tr>\n",
       "    <tr>\n",
       "      <th>293</th>\n",
       "      <td>2016-06</td>\n",
       "      <td>17623.197</td>\n",
       "    </tr>\n",
       "    <tr>\n",
       "      <th>294</th>\n",
       "      <td>2016-07</td>\n",
       "      <td>17631.425</td>\n",
       "    </tr>\n",
       "    <tr>\n",
       "      <th>295</th>\n",
       "      <td>2016-08</td>\n",
       "      <td>17739.288</td>\n",
       "    </tr>\n",
       "    <tr>\n",
       "      <th>296</th>\n",
       "      <td>2016-09</td>\n",
       "      <td>17802.672</td>\n",
       "    </tr>\n",
       "    <tr>\n",
       "      <th>297</th>\n",
       "      <td>2016-10</td>\n",
       "      <td>17736.485</td>\n",
       "    </tr>\n",
       "    <tr>\n",
       "      <th>298</th>\n",
       "      <td>2016-11</td>\n",
       "      <td>17834.857</td>\n",
       "    </tr>\n",
       "    <tr>\n",
       "      <th>299</th>\n",
       "      <td>2016-12</td>\n",
       "      <td>17866.324</td>\n",
       "    </tr>\n",
       "  </tbody>\n",
       "</table>\n",
       "</div>"
      ],
      "text/plain": [
       "        Date  Monthly Real GDP Index\n",
       "276  2015-01               17274.838\n",
       "277  2015-02               17353.545\n",
       "278  2015-03               17213.689\n",
       "279  2015-04               17389.551\n",
       "280  2015-05               17349.749\n",
       "281  2015-06               17403.536\n",
       "282  2015-07               17403.909\n",
       "283  2015-08               17407.732\n",
       "284  2015-09               17499.930\n",
       "285  2015-10               17488.269\n",
       "286  2015-11               17422.648\n",
       "287  2015-12               17477.131\n",
       "288  2016-01               17548.082\n",
       "289  2016-02               17517.788\n",
       "290  2016-03               17630.853\n",
       "291  2016-04               17643.776\n",
       "292  2016-05               17588.915\n",
       "293  2016-06               17623.197\n",
       "294  2016-07               17631.425\n",
       "295  2016-08               17739.288\n",
       "296  2016-09               17802.672\n",
       "297  2016-10               17736.485\n",
       "298  2016-11               17834.857\n",
       "299  2016-12               17866.324"
      ]
     },
     "execution_count": 79,
     "metadata": {},
     "output_type": "execute_result"
    }
   ],
   "source": [
    "# Transform GDP dataframe to usable table\n",
    "\n",
    "gdp_monthly = gdp_monthly.drop(\"Monthly Nominal GDP Index\", axis = 1)\n",
    "gdp_monthly.rename(columns = {'Unnamed: 0': 'Date'}, inplace=True)\n",
    "gdp_monthly['Date'] = pd.to_datetime(gdp_monthly['Date'])\n",
    "gdp_monthly['Date'] = gdp_monthly['Date'].dt.strftime('%Y-%m')\n",
    "gdp_monthly = gdp_monthly.drop(range(0,276))\n",
    "gdp_monthly = gdp_monthly.drop(range(300, 372))\n",
    "\n",
    "gdp_monthly"
   ]
  },
  {
   "cell_type": "code",
   "execution_count": 80,
   "id": "4cc42e41",
   "metadata": {},
   "outputs": [
    {
     "data": {
      "image/png": "[encoded data removed]",
      "text/plain": [
       "<Figure size 3200x1000 with 1 Axes>"
      ]
     },
     "metadata": {},
     "output_type": "display_data"
    }
   ],
   "source": [
    "f = plt.figure()\n",
    "f.set_figwidth(32)\n",
    "f.set_figheight(10)\n",
    "\n",
    "\n",
    "plt.plot(gdp_monthly['Date'], gdp_monthly['Monthly Real GDP Index'])\n",
    "plt.xlabel(\"Date\")\n",
    "plt.ylabel(\"Real GDP Index\")\n",
    "plt.title(\"Monthly Real GDP Index 2015-2016\")\n",
    "plt.show() "
   ]
  },
  {
   "cell_type": "code",
   "execution_count": null,
   "id": "f293abb8",
   "metadata": {
    "scrolled": true
   },
   "outputs": [],
   "source": [
    "#Modify cci table to add year and month column\n",
    "cci_monthly['Year'] = pd.DatetimeIndex(cci_monthly['TIME']).year\n",
    "cci_monthly['Month'] = pd.DatetimeIndex(cci_monthly['TIME']).month\n",
    "cci_monthly.head()"
   ]
  },
  {
   "cell_type": "code",
   "execution_count": null,
   "id": "08ac03fb",
   "metadata": {
    "scrolled": true
   },
   "outputs": [],
   "source": [
    "#add year and month column to go_daily_sales\n",
    "go_daily_sales['Year'] = pd.DatetimeIndex(go_daily_sales['Date']).year\n",
    "go_daily_sales['Month'] = pd.DatetimeIndex(go_daily_sales['Date']).month\n",
    "go_daily_sales.head()"
   ]
  },
  {
   "cell_type": "code",
   "execution_count": null,
   "id": "69f89302",
   "metadata": {},
   "outputs": [],
   "source": [
    "#add year and month column to go_1k\n",
    "go_1k['Year'] = pd.DatetimeIndex(go_1k['Date']).year\n",
    "go_1k['Month'] = pd.DatetimeIndex(go_1k['Date']).month\n",
    "go_1k.head()"
   ]
  },
  {
   "cell_type": "code",
   "execution_count": null,
   "id": "47c30398",
   "metadata": {},
   "outputs": [],
   "source": [
    "#remove spaces from column names and insert '_'\n",
    "def spaces(df):\n",
    "    df.columns = df.columns.str.replace(' ', '_')\n",
    "    return df.head()\n",
    "\n",
    "data = [go_1k, go_daily_sales, go_methods, go_products, go_retailers, unemploy_monthly, cpi_monthly, cci_monthly]\n",
    "for i in data:\n",
    "    spaces(i)"
   ]
  },
  {
   "cell_type": "code",
   "execution_count": null,
   "id": "d3882a82",
   "metadata": {},
   "outputs": [],
   "source": [
    "cci_monthly = cci_monthly.rename(columns={\"TIME\": \"Date\"})"
   ]
  },
  {
   "cell_type": "code",
   "execution_count": null,
   "id": "90195dfa",
   "metadata": {
    "scrolled": false
   },
   "outputs": [],
   "source": [
    "### drop flag codes columns due to NAN and irrelevance\n",
    "cci_monthly = cci_monthly.drop(['Flag Codes', 'LOCATION', 'INDICATOR', 'SUBJECT', 'MEASURE', 'FREQUENCY', 'Date'], axis=1)"
   ]
  },
  {
   "cell_type": "code",
   "execution_count": null,
   "id": "0bff0a3b",
   "metadata": {},
   "outputs": [],
   "source": [
    "go_1k = go_1k.drop(['Date'], axis=1)"
   ]
  },
  {
   "cell_type": "code",
   "execution_count": null,
   "id": "b817ba01",
   "metadata": {},
   "outputs": [],
   "source": [
    "#Transpose monthly unemployment data\n",
    "unemployment_monthly = unemploy_monthly.T.set_axis(unemploy_monthly['Year'], axis=1, inplace=False)\n",
    "unemployment_monthly = unemployment_monthly.drop('Year')\n",
    "unemployment_monthly.index.names = ['Month']\n",
    "unemployment_monthly = pd.DataFrame(unemployment_monthly)\n",
    "unemployment_monthly"
   ]
  },
  {
   "cell_type": "code",
   "execution_count": null,
   "id": "18ec3998",
   "metadata": {},
   "outputs": [],
   "source": [
    "#Transpose monthly cpi data\n",
    "cpi_monthly_t = cpi_monthly.T.set_axis(cpi_monthly['Year'], axis=1, inplace=False)\n",
    "cpi_monthly_t = cpi_monthly_t.drop(['Year', 'HALF1',\"HALF2\"])\n",
    "cpi_monthly_t.index.names = ['Month']\n",
    "cpi_monthly_t = pd.DataFrame(cpi_monthly_t)\n",
    "cpi_monthly_t"
   ]
  },
  {
   "cell_type": "code",
   "execution_count": null,
   "id": "cf56bc28",
   "metadata": {},
   "outputs": [],
   "source": [
    "test = pd.merge(cci_monthly, go_1k, how='inner',\n",
    "                 left_on=['Month', 'Year'],\n",
    "                 right_on=['Month', 'Year'])\n",
    "test.head()"
   ]
  },
  {
   "cell_type": "code",
   "execution_count": null,
   "id": "44873fe4",
   "metadata": {
    "scrolled": true
   },
   "outputs": [],
   "source": [
    "test.head()"
   ]
  },
  {
   "cell_type": "code",
   "execution_count": null,
   "id": "d177ae39",
   "metadata": {},
   "outputs": [],
   "source": [
    "test.head()"
   ]
  },
  {
   "attachments": {},
   "cell_type": "markdown",
   "id": "b6aa1d7d",
   "metadata": {},
   "source": [
    "# Load transformed tables to destination database"
   ]
  },
  {
   "cell_type": "code",
   "execution_count": null,
   "id": "d085e9cd",
   "metadata": {},
   "outputs": [],
   "source": [
    "# Connect to the sql server\n",
    "connection = mysql.connect(host='localhost',\n",
    "                         user='root',\n",
    "                         password=getpass.getpass(prompt='Password:',stream=None))\n",
    "                          \n",
    "\n",
    "# create cursor\n",
    "cursor = connection.cursor()"
   ]
  },
  {
   "cell_type": "code",
   "execution_count": null,
   "id": "73df8252",
   "metadata": {},
   "outputs": [],
   "source": [
    "#Create Database\n",
    "cursor.execute(\"CREATE DATABASE wild_wonderful_sales\")"
   ]
  },
  {
   "cell_type": "code",
   "execution_count": null,
   "id": "67b9fc48",
   "metadata": {},
   "outputs": [],
   "source": [
    "#create engine to add data to sql database \"gosales\"\n",
    "db_data = 'mysql+mysqlconnector://' + 'root' + ':' + getpass.getpass(prompt='Password:',stream=None) + '@' + 'localhost' + ':3306/' \\\n",
    "       + 'wild_wonderful_sales' + '?charset=utf8mb4'\n",
    "engine = create_engine(db_data)"
   ]
  },
  {
   "cell_type": "code",
   "execution_count": null,
   "id": "1995a78e",
   "metadata": {},
   "outputs": [],
   "source": [
    "def load(df, table):\n",
    "    df.to_sql(table, engine, if_exists='append', index=False)\n",
    "\n",
    "df = [go_1k, go_daily_sales, go_methods, go_products, go_retailers, unemployment_monthly, cpi_monthly_t, cci_monthly]\n",
    "tables = ['go_1k', 'go_daily_sales', 'go_methods', 'go_products', 'go_retailers', 'unemployment_monthly', 'cpi_monthly_t', 'cci_monthly']\n",
    "\n",
    "for i, j in zip(df, tables):\n",
    "    load(i, j)\n",
    "print('Tables loaded sucessfully :)')"
   ]
  },
  {
   "cell_type": "code",
   "execution_count": null,
   "id": "cd07b733",
   "metadata": {},
   "outputs": [],
   "source": [
    "#update connection to use go sales database\n",
    "connection = mysql.connect(host='localhost',\n",
    "                         user='root',\n",
    "                         password=getpass.getpass(prompt='Password:',stream=None),\n",
    "                         database='wild_wonderful_sales')"
   ]
  },
  {
   "attachments": {},
   "cell_type": "markdown",
   "id": "25aa0045",
   "metadata": {},
   "source": [
    "#Begin Queries"
   ]
  },
  {
   "cell_type": "code",
   "execution_count": null,
   "id": "a1e711d2",
   "metadata": {},
   "outputs": [],
   "source": [
    "#Total product sales by volume\n",
    "product_vol = pd.DataFrame(pd.read_sql(\"SELECT s.Quantity,\\\n",
    "                                               p.Product \\\n",
    "                                        FROM go_daily_sales s \\\n",
    "                                            JOIN go_products p \\\n",
    "                                            ON s.Product_number = p.Product_number \\\n",
    "                                        GROUP BY Product \\\n",
    "                                        ORDER BY Quantity DESC \\\n",
    "                                        LIMIT 20;\", \n",
    "                                        connection))\n",
    "product_vol"
   ]
  },
  {
   "cell_type": "code",
   "execution_count": null,
   "id": "683a3109",
   "metadata": {},
   "outputs": [],
   "source": [
    "go_daily_sales['Revenue'] = go_daily_sales['Unit_price'] * go_daily_sales['Quantity']\n",
    "monthly_sales = pd.DataFrame(go_daily_sales[['Month', 'Year', 'Revenue']])\n",
    "monthly_sales.head()"
   ]
  },
  {
   "cell_type": "code",
   "execution_count": null,
   "id": "7982c26d",
   "metadata": {},
   "outputs": [],
   "source": [
    "sales = pd.DataFrame(monthly_sales.groupby(['Month', 'Year'], as_index=False)['Revenue'].sum())\n",
    "monthly_sales_2015 = pd.DataFrame(sales[sales.Year ==2015])\n",
    "monthly_sales_2015"
   ]
  },
  {
   "cell_type": "code",
   "execution_count": null,
   "id": "214cd865",
   "metadata": {},
   "outputs": [],
   "source": [
    "monthly_sales_2016 = pd.DataFrame(sales[sales.Year ==2016])\n",
    "monthly_sales_2016"
   ]
  },
  {
   "attachments": {},
   "cell_type": "markdown",
   "id": "ec28b115",
   "metadata": {},
   "source": [
    "##Create table for monthly unemployment in 2015 and 2016"
   ]
  },
  {
   "attachments": {},
   "cell_type": "markdown",
   "id": "a05137bf",
   "metadata": {},
   "source": [
    "##Create table for monthly consumer price index change in 2015 and 2016"
   ]
  },
  {
   "cell_type": "code",
   "execution_count": null,
   "id": "e66bc52b",
   "metadata": {},
   "outputs": [],
   "source": [
    "cpi_monthly_2015_2016 = cpi_monthly.T.set_axis(cpi_monthly['Year'], axis=1, inplace=False)\n",
    "cpi_monthly_2015_2016 = cpi_monthly_2015_2016.drop(['Year', 'HALF1',\"HALF2\"])\n",
    "cpi_monthly_2015_2016.index.names = ['Month']\n",
    "cpi_monthly_2015_2016 = pd.DataFrame(cpi_monthly_2015_2016[[2015, 2016]])\n",
    "cpi_monthly_2015_2016"
   ]
  },
  {
   "cell_type": "code",
   "execution_count": null,
   "id": "07802dbc",
   "metadata": {},
   "outputs": [],
   "source": []
  },
  {
   "cell_type": "code",
   "execution_count": null,
   "id": "407545f7",
   "metadata": {},
   "outputs": [],
   "source": []
  },
  {
   "cell_type": "code",
   "execution_count": null,
   "id": "54bcc0a6",
   "metadata": {},
   "outputs": [],
   "source": []
  },
  {
   "cell_type": "code",
   "execution_count": null,
   "id": "722ad16a",
   "metadata": {},
   "outputs": [],
   "source": []
  },
  {
   "cell_type": "code",
   "execution_count": null,
   "id": "e2acbb87",
   "metadata": {},
   "outputs": [],
   "source": []
  },
  {
   "cell_type": "code",
   "execution_count": null,
   "id": "73b031cc",
   "metadata": {},
   "outputs": [],
   "source": []
  },
  {
   "cell_type": "code",
   "execution_count": null,
   "id": "1eb97800",
   "metadata": {},
   "outputs": [],
   "source": []
  },
  {
   "cell_type": "code",
   "execution_count": null,
   "id": "2a1b9313",
   "metadata": {},
   "outputs": [],
   "source": []
  },
  {
   "cell_type": "code",
   "execution_count": null,
   "id": "0762959a",
   "metadata": {},
   "outputs": [],
   "source": []
  },
  {
   "cell_type": "code",
   "execution_count": null,
   "id": "05e07852",
   "metadata": {},
   "outputs": [],
   "source": []
  },
  {
   "cell_type": "code",
   "execution_count": null,
   "id": "f4959eb3",
   "metadata": {},
   "outputs": [],
   "source": []
  },
  {
   "cell_type": "code",
   "execution_count": null,
   "id": "636f845c",
   "metadata": {},
   "outputs": [],
   "source": [
    "connection.close()"
   ]
  }
 ],
 "metadata": {
  "kernelspec": {
   "display_name": "Python 3",
   "language": "python",
   "name": "python3"
  },
  "language_info": {
   "codemirror_mode": {
    "name": "ipython",
    "version": 3
   },
   "file_extension": ".py",
   "mimetype": "text/x-python",
   "name": "python",
   "nbconvert_exporter": "python",
   "pygments_lexer": "ipython3",
   "version": "3.8.0"
  },
  "vscode": {
   "interpreter": {
    "hash": "17f055c25ad5700349c7c470674e71875ee5673a29a535863db7ba2c9638dc3f"
   }
  }
 },
 "nbformat": 4,
 "nbformat_minor": 5
}
